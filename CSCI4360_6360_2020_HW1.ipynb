{
  "nbformat": 4,
  "nbformat_minor": 0,
  "metadata": {
    "colab": {
      "name": "CSCI4360-6360-2020-HW1",
      "provenance": [],
      "collapsed_sections": [],
      "include_colab_link": true
    },
    "kernelspec": {
      "name": "python3",
      "display_name": "Python 3"
    }
  },
  "cells": [
    {
      "cell_type": "markdown",
      "metadata": {
        "id": "view-in-github",
        "colab_type": "text"
      },
      "source": [
        "<a href=\"https://colab.research.google.com/github/FereshtehRD/DataScience2/blob/main/CSCI4360_6360_2020_HW1.ipynb\" target=\"_parent\"><img src=\"https://colab.research.google.com/assets/colab-badge.svg\" alt=\"Open In Colab\"/></a>"
      ]
    },
    {
      "cell_type": "code",
      "metadata": {
        "id": "qIvYX4A0Avl-",
        "colab": {
          "base_uri": "https://localhost:8080/"
        },
        "outputId": "504cd2a8-199f-495b-f7b8-ebec9f0b5752"
      },
      "source": [
        "#impement operations with matrices in Python, including addition, scalar multiplication, and matrix multiplication,\n",
        "#question numbper 1-using numpy array\n",
        "import numpy as array\n",
        "from numpy import array\n",
        "# add matrices\n",
        "X = array([[1, 1, 1], [2, 2, 2], [3,3,3]])\n",
        "Y = array([[2, 2, 2], [3, 3, 3],[4,4,4]])\n",
        "Z = X + Y\n",
        "print(\"add by numpy\")\n",
        "print(Z)\n",
        "# scalar multiplication\n",
        "B=2\n",
        "C=X*B\n",
        "print(\"scalar by numpy\")\n",
        "print(C)\n",
        "#matrix multiplication\n",
        "H=X.dot(Y)\n",
        "print(\"multi by numpy\")\n",
        "print(H)\n",
        "#question numbper 1-not-using numpy array\n",
        "a = [[1,1,1],\n",
        "     [2,2,2],\n",
        "     [3,3,3]]\n",
        "\n",
        "b = [[2,2,2],\n",
        "     [3,3,3],\n",
        "     [4,4,4]]\n",
        "#add matrix\n",
        "# iterate through rows \n",
        "result=[]    \n",
        "for i in range(len(a)):\n",
        "    result.append([0] * len(b[1]))\n",
        "for i in range(len(a)):    \n",
        "# iterate through columns \n",
        "    for j in range(len(a[0])): \n",
        "        result[i][j] = a[i][j] + b[i][j] \n",
        "print(\"add without numpy\")\n",
        "print(result)\n",
        "#scalar multiplication\n",
        "res=[]    \n",
        "for i in range(len(a)):\n",
        "    res.append([0] * len(a[0]))\n",
        "for i in range( len(a)): \n",
        "        for j in range( len(a[0])):  \n",
        "            res[i][j] = a[i][j] * B\n",
        "print(\"scalar without numpy\")\n",
        "print(res)\n",
        "#matrix multiplication\n",
        "\n",
        "result=[]    \n",
        "for i in range(len(a)):\n",
        "    result.append([0] * len(b[1]))\n",
        "  \n",
        "for i in range (len(a)):\n",
        "      # iterate through columns of b\n",
        "      for j in range (len(b[1])):\n",
        "        # iterate through rows of b\n",
        "        for k in range(len(b)):\n",
        "          result[i][j] += a[i][k] * b[k][j]\n",
        "print(\"multi without numpy\")\n",
        "print(result)\n",
        "\n",
        "\n",
        "\n",
        "\n",
        "\n"
      ],
      "execution_count": null,
      "outputs": [
        {
          "output_type": "stream",
          "text": [
            "add by numpy\n",
            "[[3 3 3]\n",
            " [5 5 5]\n",
            " [7 7 7]]\n",
            "scalar by numpy\n",
            "[[2 2 2]\n",
            " [4 4 4]\n",
            " [6 6 6]]\n",
            "multi by numpy\n",
            "[[ 9  9  9]\n",
            " [18 18 18]\n",
            " [27 27 27]]\n",
            "add without numpy\n",
            "[[3, 3, 3], [5, 5, 5], [7, 7, 7]]\n",
            "scalar without numpy\n",
            "[[2, 2, 2], [4, 4, 4], [6, 6, 6]]\n",
            "multi without numpy\n",
            "[[9, 9, 9], [18, 18, 18], [27, 27, 27]]\n"
          ],
          "name": "stdout"
        }
      ]
    },
    {
      "cell_type": "code",
      "metadata": {
        "id": "Qx9IyJ-VCsmp",
        "colab": {
          "base_uri": "https://localhost:8080/"
        },
        "outputId": "cc2c2e66-7515-4d8b-cb89-22f80c48bde1"
      },
      "source": [
        "#question number2\n",
        "#analyze the Boston housing dataset provided by scikit-learn \n",
        "%tensorflow_version 1.x\n",
        "import tensorflow\n",
        "print(tensorflow.__version__)\n"
      ],
      "execution_count": null,
      "outputs": [
        {
          "output_type": "stream",
          "text": [
            "TensorFlow 1.x selected.\n",
            "1.15.2\n"
          ],
          "name": "stdout"
        }
      ]
    },
    {
      "cell_type": "code",
      "metadata": {
        "id": "3F9qFlg_Q4IB"
      },
      "source": [
        "from sklearn.datasets import load_boston\r\n",
        "X, y = load_boston(return_X_y=True)\r\n",
        "names = load_boston().feature_names\r\n",
        "data = pd.DataFrame(X)\r\n",
        "data = data.rename({0: 'CRIM', 1: 'ZN', 2: 'INDUS', 3: 'CHAS', 4: 'NOX', 5: 'RM', 6: 'AGE', 7: 'DIS', 8: 'RAD', 9: 'TAX', 10: 'PTRATIO', 11: 'B', 12: 'LSTAT'}, axis = 1)\r\n",
        "data['medv'] = y"
      ],
      "execution_count": null,
      "outputs": []
    },
    {
      "cell_type": "code",
      "metadata": {
        "id": "EGntUu60Vkal",
        "colab": {
          "base_uri": "https://localhost:8080/"
        },
        "outputId": "b955d582-1b83-4ff0-b233-9c1894d232ea"
      },
      "source": [
        "# Import libraries necessary for this project\n",
        "import numpy as np\n",
        "import pandas as pd\n",
        "\n",
        "# Pretty display for notebooks\n",
        "%matplotlib inline\n",
        "\n",
        "# Load the Boston housing dataset\n",
        "#data = pd.read_csv('/Boston.csv')\n",
        "prices = data['medv']\n",
        "features = data.drop('medv', axis = 1)\n",
        "\n",
        "# Success\n",
        "print ('Boston housing dataset has {0} data points with {1} variables each'.format(*data.shape))\n",
        "print(data.describe)"
      ],
      "execution_count": null,
      "outputs": [
        {
          "output_type": "stream",
          "text": [
            "Boston housing dataset has 506 data points with 14 variables each\n",
            "<bound method NDFrame.describe of         CRIM    ZN  INDUS  CHAS    NOX  ...    TAX  PTRATIO       B  LSTAT  medv\n",
            "0    0.00632  18.0   2.31   0.0  0.538  ...  296.0     15.3  396.90   4.98  24.0\n",
            "1    0.02731   0.0   7.07   0.0  0.469  ...  242.0     17.8  396.90   9.14  21.6\n",
            "2    0.02729   0.0   7.07   0.0  0.469  ...  242.0     17.8  392.83   4.03  34.7\n",
            "3    0.03237   0.0   2.18   0.0  0.458  ...  222.0     18.7  394.63   2.94  33.4\n",
            "4    0.06905   0.0   2.18   0.0  0.458  ...  222.0     18.7  396.90   5.33  36.2\n",
            "..       ...   ...    ...   ...    ...  ...    ...      ...     ...    ...   ...\n",
            "501  0.06263   0.0  11.93   0.0  0.573  ...  273.0     21.0  391.99   9.67  22.4\n",
            "502  0.04527   0.0  11.93   0.0  0.573  ...  273.0     21.0  396.90   9.08  20.6\n",
            "503  0.06076   0.0  11.93   0.0  0.573  ...  273.0     21.0  396.90   5.64  23.9\n",
            "504  0.10959   0.0  11.93   0.0  0.573  ...  273.0     21.0  393.45   6.48  22.0\n",
            "505  0.04741   0.0  11.93   0.0  0.573  ...  273.0     21.0  396.90   7.88  11.9\n",
            "\n",
            "[506 rows x 14 columns]>\n"
          ],
          "name": "stdout"
        }
      ]
    },
    {
      "cell_type": "code",
      "metadata": {
        "id": "nPv34FL_dTTX",
        "colab": {
          "base_uri": "https://localhost:8080/"
        },
        "outputId": "1c06be29-c251-4c3b-fb8a-068c8a33b88e"
      },
      "source": [
        "#question number2-part1-1-for price\n",
        "minimum_price = np.min(prices)\n",
        "maximum_price = np.max(prices)\n",
        "mean_price = np.mean(prices)\n",
        "median_price = np.median(prices)\n",
        "std_price = np.std(prices)\n",
        "first_quartile = np.percentile(prices, 25)\n",
        "third_quartile = np.percentile(prices, 75)\n",
        "inter_quartile = third_quartile - first_quartile\n",
        "print(\"Statistics for Boston housing dataset:\\n\")\n",
        "print(\"Minimum price\")\n",
        "print(minimum_price)\n",
        "print(\"Maximum price\")\n",
        "print(maximum_price)\n",
        "print(\"Mean price\")\n",
        "print(mean_price)\n",
        "print(\"Median price\")\n",
        "print(median_price)\n",
        "print(\"Standard deviation of prices\")\n",
        "print(std_price)\n",
        "print(\"First quartile of prices\")\n",
        "print(first_quartile)\n",
        "print(\"Second quartile of prices\")\n",
        "print(third_quartile)\n",
        "print(\"Interquartile (IQR) of prices\")\n",
        "print(inter_quartile)"
      ],
      "execution_count": null,
      "outputs": [
        {
          "output_type": "stream",
          "text": [
            "Statistics for Boston housing dataset:\n",
            "\n",
            "Minimum price\n",
            "5.0\n",
            "Maximum price\n",
            "50.0\n",
            "Mean price\n",
            "22.532806324110698\n",
            "Median price\n",
            "21.2\n",
            "Standard deviation of prices\n",
            "9.188011545278206\n",
            "First quartile of prices\n",
            "17.025\n",
            "Second quartile of prices\n",
            "25.0\n",
            "Interquartile (IQR) of prices\n",
            "7.975000000000001\n"
          ],
          "name": "stdout"
        }
      ]
    },
    {
      "cell_type": "code",
      "metadata": {
        "id": "qAvLVfIvgWih",
        "colab": {
          "base_uri": "https://localhost:8080/",
          "height": 350
        },
        "outputId": "90f1ec17-7fdc-4221-9d65-2a685aa98168"
      },
      "source": [
        "#question number2 part2-1\n",
        "# Using pyplot\n",
        "import matplotlib.pyplot as plt\n",
        "plt.figure(figsize=(20, 5))\n",
        "\n",
        "features = ['AGE', 'RM', 'medv']\n",
        "\n",
        "for i, col in enumerate(features):\n",
        "    plt.subplot(1, len(features) , i+1)\n",
        "    x = data[col]\n",
        "    y=data['ZN']\n",
        "    plt.scatter(x,y, marker='o')\n",
        "    plt.title(col)\n",
        "    plt.xlabel(col)\n"
      ],
      "execution_count": null,
      "outputs": [
        {
          "output_type": "display_data",
          "data": {
            "image/png": "[encoded data removed]",
            "text/plain": [
              "<Figure size 1440x360 with 3 Axes>"
            ]
          },
          "metadata": {
            "tags": [],
            "needs_background": "light"
          }
        }
      ]
    },
    {
      "cell_type": "code",
      "metadata": {
        "id": "RxdDxUXSAs5W",
        "colab": {
          "base_uri": "https://localhost:8080/",
          "height": 110
        },
        "outputId": "d5ddb9c3-0730-405a-c84f-b028697d8def"
      },
      "source": [
        "#question number2 part1-2 last part\n",
        "\n",
        "data[['AGE' , 'RM']].corr()\n"
      ],
      "execution_count": null,
      "outputs": [
        {
          "output_type": "execute_result",
          "data": {
            "text/html": [
              "<div>\n",
              "<style scoped>\n",
              "    .dataframe tbody tr th:only-of-type {\n",
              "        vertical-align: middle;\n",
              "    }\n",
              "\n",
              "    .dataframe tbody tr th {\n",
              "        vertical-align: top;\n",
              "    }\n",
              "\n",
              "    .dataframe thead th {\n",
              "        text-align: right;\n",
              "    }\n",
              "</style>\n",
              "<table border=\"1\" class=\"dataframe\">\n",
              "  <thead>\n",
              "    <tr style=\"text-align: right;\">\n",
              "      <th></th>\n",
              "      <th>AGE</th>\n",
              "      <th>RM</th>\n",
              "    </tr>\n",
              "  </thead>\n",
              "  <tbody>\n",
              "    <tr>\n",
              "      <th>AGE</th>\n",
              "      <td>1.000000</td>\n",
              "      <td>-0.240265</td>\n",
              "    </tr>\n",
              "    <tr>\n",
              "      <th>RM</th>\n",
              "      <td>-0.240265</td>\n",
              "      <td>1.000000</td>\n",
              "    </tr>\n",
              "  </tbody>\n",
              "</table>\n",
              "</div>"
            ],
            "text/plain": [
              "          AGE        RM\n",
              "AGE  1.000000 -0.240265\n",
              "RM  -0.240265  1.000000"
            ]
          },
          "metadata": {
            "tags": []
          },
          "execution_count": 25
        }
      ]
    },
    {
      "cell_type": "markdown",
      "metadata": {
        "id": "RJsXMAK1ty1y"
      },
      "source": [
        "\n",
        "q2-2=0.99*0.001/(0.99*0.001+0.01*0.99)=11/122\n"
      ]
    },
    {
      "cell_type": "code",
      "metadata": {
        "id": "sziHpfWIf7bi",
        "colab": {
          "base_uri": "https://localhost:8080/"
        },
        "outputId": "297d788e-4637-4473-850b-1a100c4ff84a"
      },
      "source": [
        "#question number3\n",
        "#calculate z-score.\n",
        "from scipy.stats import norm\n",
        "\n",
        "import numpy as np\n",
        "def get_ab_test(n, N, nc, Nc):\n",
        "    rate_a = n / N\n",
        "    rate_b = nc / Nc\n",
        "    std_a = np.sqrt(rate_a * (1 - rate_a) / N)\n",
        "    std_b = np.sqrt(rate_b * (1 - rate_b) / Nc)\n",
        "    z_score = (rate_b - rate_a) / np.sqrt(std_a**2 + std_b**2)\n",
        "    print(z_score)\n",
        "    return(z_score)\n",
        "def norm__(z_score):\n",
        "  result=1-norm.cdf(z)\n",
        "  if result>0.05:\n",
        "    print(\"no much difference\")\n",
        "  else:\n",
        "    print(\"this one is better\")\n",
        "\n",
        "z=get_ab_test(35, 182, 28, 189)\n",
        "norm__(z)\n",
        "\n",
        "z=get_ab_test(35, 182, 45, 180)\n",
        "norm__(z)\n",
        "\n",
        "z=get_ab_test(35, 182, 61, 188)\n",
        "norm__(z)\n"
      ],
      "execution_count": null,
      "outputs": [
        {
          "output_type": "stream",
          "text": [
            "-1.1322354025976669\n",
            "no much difference\n",
            "1.3252611961151075\n",
            "no much difference\n",
            "2.9410157224928595\n",
            "this one is better\n"
          ],
          "name": "stdout"
        }
      ]
    }
  ]
}