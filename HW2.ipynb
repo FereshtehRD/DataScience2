{
  "nbformat": 4,
  "nbformat_minor": 0,
  "metadata": {
    "kernelspec": {
      "display_name": "Python 3",
      "language": "python",
      "name": "python3"
    },
    "language_info": {
      "codemirror_mode": {
        "name": "ipython",
        "version": 3
      },
      "file_extension": ".py",
      "mimetype": "text/x-python",
      "name": "python",
      "nbconvert_exporter": "python",
      "pygments_lexer": "ipython3",
      "version": "3.7.4"
    },
    "colab": {
      "name": "HW2.ipynb",
      "provenance": [],
      "include_colab_link": true
    }
  },
  "cells": [
    {
      "cell_type": "markdown",
      "metadata": {
        "id": "view-in-github",
        "colab_type": "text"
      },
      "source": [
        "<a href=\"https://colab.research.google.com/github/FereshtehRD/DataScience2/blob/FereshtehRD-homework1/HW2.ipynb\" target=\"_parent\"><img src=\"https://colab.research.google.com/assets/colab-badge.svg\" alt=\"Open In Colab\"/></a>"
      ]
    },
    {
      "cell_type": "markdown",
      "metadata": {
        "id": "0zKAad9Nrcl9"
      },
      "source": [
        "\n",
        "\n",
        "Build training and test sets based on this digits dataset (https://scikit-learn.org/stable/datasets/index.html#digits-dataset) for a binary classification task. For instance,use the 70/30 split to divide the shuffled dataset into the training and test sets. From the trainingset, collect samples of one digit (e.g., 9, assume we haveNimages in this class) and then randomlysample the same number of images (Nimages) from the training data of all other digits ( not 9)to balance the positive and negative samples. Use the test set or randomly sampleNimages fromit for evaluation. "
      ]
    },
    {
      "cell_type": "code",
      "metadata": {
        "id": "GKDuDUOKrcmB"
      },
      "source": [
        "from sklearn.datasets import load_digits\n",
        "import pandas as pd\n",
        "import numpy as np"
      ],
      "execution_count": null,
      "outputs": []
    },
    {
      "cell_type": "code",
      "metadata": {
        "id": "8rk30JpercmC",
        "outputId": "3443d10f-f961-49e0-c11a-7e16e6cf3084"
      },
      "source": [
        "# 1. Building Training/Testing data sets\n",
        "(X, y) = load_digits(return_X_y=True)\n",
        "df = pd.DataFrame(X)\n",
        "df['class'] = y\n",
        "print(df.head())\n",
        "print(df['class'].describe())"
      ],
      "execution_count": null,
      "outputs": [
        {
          "output_type": "stream",
          "text": [
            "     0    1    2     3     4     5    6    7    8    9  ...   55   56   57  \\\n",
            "0  0.0  0.0  5.0  13.0   9.0   1.0  0.0  0.0  0.0  0.0  ...  0.0  0.0  0.0   \n",
            "1  0.0  0.0  0.0  12.0  13.0   5.0  0.0  0.0  0.0  0.0  ...  0.0  0.0  0.0   \n",
            "2  0.0  0.0  0.0   4.0  15.0  12.0  0.0  0.0  0.0  0.0  ...  0.0  0.0  0.0   \n",
            "3  0.0  0.0  7.0  15.0  13.0   1.0  0.0  0.0  0.0  8.0  ...  0.0  0.0  0.0   \n",
            "4  0.0  0.0  0.0   1.0  11.0   0.0  0.0  0.0  0.0  0.0  ...  0.0  0.0  0.0   \n",
            "\n",
            "    58    59    60    61   62   63  class  \n",
            "0  6.0  13.0  10.0   0.0  0.0  0.0      0  \n",
            "1  0.0  11.0  16.0  10.0  0.0  0.0      1  \n",
            "2  0.0   3.0  11.0  16.0  9.0  0.0      2  \n",
            "3  7.0  13.0  13.0   9.0  0.0  0.0      3  \n",
            "4  0.0   2.0  16.0   4.0  0.0  0.0      4  \n",
            "\n",
            "[5 rows x 65 columns]\n",
            "count    1797.000000\n",
            "mean        4.490818\n",
            "std         2.865304\n",
            "min         0.000000\n",
            "25%         2.000000\n",
            "50%         4.000000\n",
            "75%         7.000000\n",
            "max         9.000000\n",
            "Name: class, dtype: float64\n"
          ],
          "name": "stdout"
        }
      ]
    },
    {
      "cell_type": "code",
      "metadata": {
        "id": "tHlYkJGorcmD",
        "outputId": "a3ae379b-909f-459d-a2fa-1ba349e3e7cc"
      },
      "source": [
        "df_7 = df.loc[df['class']==7]\n",
        "df_7['class'] = 1\n",
        "print(df_7.head())\n",
        "print(len(df_7))"
      ],
      "execution_count": null,
      "outputs": [
        {
          "output_type": "stream",
          "text": [
            "      0    1    2     3     4     5     6    7    8    9  ...   55   56   57  \\\n",
            "7   0.0  0.0  7.0   8.0  13.0  16.0  15.0  1.0  0.0  0.0  ...  0.0  0.0  0.0   \n",
            "17  0.0  0.0  1.0   8.0  15.0  10.0   0.0  0.0  0.0  3.0  ...  0.0  0.0  0.0   \n",
            "27  0.0  0.0  0.0   8.0  14.0  14.0   2.0  0.0  0.0  0.0  ...  0.0  0.0  0.0   \n",
            "43  0.0  0.0  0.0   9.0  15.0  12.0   0.0  0.0  0.0  0.0  ...  0.0  0.0  0.0   \n",
            "44  0.0  0.0  9.0  16.0  16.0  16.0   5.0  0.0  0.0  1.0  ...  0.0  0.0  0.0   \n",
            "\n",
            "      58    59    60   61   62   63  class  \n",
            "7   13.0   5.0   0.0  0.0  0.0  0.0      1  \n",
            "17   0.0  11.0   9.0  0.0  0.0  0.0      1  \n",
            "27   0.0  12.0  13.0  1.0  0.0  0.0      1  \n",
            "43   0.0  11.0   7.0  0.0  0.0  0.0      1  \n",
            "44  13.0  10.0   0.0  0.0  0.0  0.0      1  \n",
            "\n",
            "[5 rows x 65 columns]\n",
            "179\n"
          ],
          "name": "stdout"
        },
        {
          "output_type": "stream",
          "text": [
            "C:\\Anaconda\\lib\\site-packages\\ipykernel_launcher.py:2: SettingWithCopyWarning: \n",
            "A value is trying to be set on a copy of a slice from a DataFrame.\n",
            "Try using .loc[row_indexer,col_indexer] = value instead\n",
            "\n",
            "See the caveats in the documentation: http://pandas.pydata.org/pandas-docs/stable/user_guide/indexing.html#returning-a-view-versus-a-copy\n",
            "  \n"
          ],
          "name": "stderr"
        }
      ]
    },
    {
      "cell_type": "code",
      "metadata": {
        "id": "4o2Fn8qWrcmD",
        "outputId": "5b3102b6-6b91-4fe4-f6b5-509366ddaab3"
      },
      "source": [
        "# We see we have 65 columns, we now have to get a random sample of numbers that aren't 7.\n",
        "df_n7 = df.loc[df['class']!=7].sample(n=len(df_7))\n",
        "df_n7['class'] = 0\n",
        "print(df_n7.head())\n",
        "assert(len(df_7) == len(df_n7))"
      ],
      "execution_count": null,
      "outputs": [
        {
          "output_type": "stream",
          "text": [
            "        0    1    2     3     4    5    6    7    8    9  ...   55   56   57  \\\n",
            "621   0.0  0.0  2.0  11.0  13.0  4.0  0.0  0.0  0.0  1.0  ...  0.0  0.0  0.0   \n",
            "737   0.0  0.0  7.0  15.0  12.0  0.0  0.0  0.0  0.0  3.0  ...  0.0  0.0  0.0   \n",
            "1615  0.0  0.0  0.0   9.0   8.0  1.0  0.0  0.0  0.0  0.0  ...  0.0  0.0  0.0   \n",
            "385   0.0  1.0  9.0  15.0  16.0  9.0  0.0  0.0  0.0  6.0  ...  0.0  0.0  0.0   \n",
            "810   0.0  0.0  6.0  13.0   0.0  0.0  0.0  0.0  0.0  0.0  ...  0.0  0.0  0.0   \n",
            "\n",
            "       58    59    60    61   62   63  class  \n",
            "621   4.0  10.0  15.0  15.0  3.0  0.0      0  \n",
            "737   5.0  13.0   9.0   1.0  0.0  0.0      0  \n",
            "1615  0.0   7.0  14.0   9.0  0.0  0.0      0  \n",
            "385   9.0  16.0  16.0  10.0  0.0  0.0      0  \n",
            "810   4.0  15.0  16.0  13.0  2.0  0.0      0  \n",
            "\n",
            "[5 rows x 65 columns]\n"
          ],
          "name": "stdout"
        }
      ]
    },
    {
      "cell_type": "code",
      "metadata": {
        "id": "MUvNx3kMrcmE",
        "outputId": "c7a9e97f-917b-4dd2-e132-76e25cc2adf5"
      },
      "source": [
        "from sklearn.model_selection import train_test_split\n",
        "\n",
        "df_balanced = pd.concat([df_7, df_n7])\n",
        "\n",
        "df_train, df_test = train_test_split(df_balanced, test_size=0.3)\n",
        "\n",
        "print(df_train)\n",
        "print(df_test)"
      ],
      "execution_count": null,
      "outputs": [
        {
          "output_type": "stream",
          "text": [
            "        0    1     2     3     4     5     6    7    8    9  ...   55   56  \\\n",
            "942   0.0  0.0   6.0  14.0  15.0   7.0   0.0  0.0  0.0  3.0  ...  0.0  0.0   \n",
            "1238  0.0  1.0  13.0  16.0  16.0  12.0   0.0  0.0  0.0  3.0  ...  0.0  0.0   \n",
            "624   0.0  0.0   4.0  13.0  16.0  14.0   0.0  0.0  0.0  0.0  ...  0.0  0.0   \n",
            "137   0.0  0.0   2.0  15.0  15.0   3.0   0.0  0.0  0.0  0.0  ...  0.0  0.0   \n",
            "979   0.0  0.0  13.0  16.0  11.0   0.0   0.0  0.0  0.0  2.0  ...  5.0  0.0   \n",
            "...   ...  ...   ...   ...   ...   ...   ...  ...  ...  ...  ...  ...  ...   \n",
            "1259  0.0  7.0  16.0  16.0  16.0  16.0  11.0  0.0  0.0  8.0  ...  0.0  0.0   \n",
            "892   0.0  0.0  10.0  15.0  13.0   1.0   0.0  0.0  0.0  4.0  ...  0.0  0.0   \n",
            "1174  0.0  0.0   5.0  13.0  16.0  16.0   6.0  0.0  0.0  0.0  ...  0.0  0.0   \n",
            "1269  0.0  0.0   5.0  12.0  16.0  16.0   7.0  0.0  0.0  0.0  ...  0.0  0.0   \n",
            "803   0.0  0.0   8.0  16.0  16.0  11.0   0.0  0.0  0.0  0.0  ...  0.0  0.0   \n",
            "\n",
            "       57    58    59    60    61    62    63  class  \n",
            "942   0.0   7.0  13.0  16.0  16.0   4.0   0.0      0  \n",
            "1238  0.0  15.0   3.0   0.0   0.0   0.0   0.0      1  \n",
            "624   0.0   5.0  16.0   2.0   0.0   0.0   0.0      1  \n",
            "137   0.0   4.0  12.0   1.0   0.0   0.0   0.0      1  \n",
            "979   0.0   9.0  12.0  13.0  16.0  16.0  11.0      0  \n",
            "...   ...   ...   ...   ...   ...   ...   ...    ...  \n",
            "1259  5.0  15.0  13.0   0.0   0.0   0.0   0.0      0  \n",
            "892   0.0  10.0  16.0  12.0   3.0   0.0   0.0      0  \n",
            "1174  0.0   6.0  11.0   0.0   0.0   0.0   0.0      1  \n",
            "1269  0.0   6.0  13.0   0.0   0.0   0.0   0.0      1  \n",
            "803   0.0  11.0  12.0   0.0   0.0   0.0   0.0      1  \n",
            "\n",
            "[250 rows x 65 columns]\n",
            "        0    1     2     3     4     5     6     7    8    9  ...   55   56  \\\n",
            "350   0.0  0.0   6.0  15.0  16.0   3.0   0.0   0.0  0.0  3.0  ...  0.0  0.0   \n",
            "1102  0.0  0.0  10.0  16.0   8.0   0.0   0.0   0.0  0.0  4.0  ...  4.0  0.0   \n",
            "884   0.0  0.0  12.0  16.0  14.0   4.0   0.0   0.0  0.0  0.0  ...  0.0  0.0   \n",
            "27    0.0  0.0   0.0   8.0  14.0  14.0   2.0   0.0  0.0  0.0  ...  0.0  0.0   \n",
            "399   0.0  0.0  10.0  16.0  10.0   0.0   0.0   0.0  0.0  8.0  ...  0.0  0.0   \n",
            "...   ...  ...   ...   ...   ...   ...   ...   ...  ...  ...  ...  ...  ...   \n",
            "1054  0.0  0.0   5.0  10.0  14.0  16.0  11.0   0.0  0.0  2.0  ...  0.0  0.0   \n",
            "1348  0.0  0.0  12.0  16.0  16.0   5.0   0.0   0.0  0.0  3.0  ...  0.0  0.0   \n",
            "1009  0.0  0.0   4.0  15.0  16.0  13.0  13.0  10.0  0.0  0.0  ...  0.0  0.0   \n",
            "67    0.0  0.0   5.0  14.0   0.0   0.0   0.0   0.0  0.0  0.0  ...  0.0  0.0   \n",
            "333   0.0  2.0  15.0  16.0  15.0   2.0   0.0   0.0  0.0  8.0  ...  0.0  0.0   \n",
            "\n",
            "       57    58    59    60    61    62   63  class  \n",
            "350   0.0   7.0   9.0   0.0   0.0   0.0  0.0      1  \n",
            "1102  0.0  11.0  15.0   9.0   8.0   6.0  0.0      0  \n",
            "884   0.0  12.0  13.0   0.0   0.0   0.0  0.0      1  \n",
            "27    0.0   0.0  12.0  13.0   1.0   0.0  0.0      1  \n",
            "399   1.0  15.0  16.0  13.0  10.0   1.0  0.0      0  \n",
            "...   ...   ...   ...   ...   ...   ...  ...    ...  \n",
            "1054  0.0   7.0  14.0   7.0   0.0   0.0  0.0      0  \n",
            "1348  0.0  13.0  10.0   0.0   0.0   0.0  0.0      1  \n",
            "1009  0.0   7.0  15.0   4.0   0.0   0.0  0.0      1  \n",
            "67    0.0   4.0  14.0  16.0  12.0   7.0  0.0      0  \n",
            "333   2.0  15.0  16.0  16.0  16.0  13.0  0.0      0  \n",
            "\n",
            "[108 rows x 65 columns]\n"
          ],
          "name": "stdout"
        }
      ]
    },
    {
      "cell_type": "code",
      "metadata": {
        "id": "hyPUxLQurcmE"
      },
      "source": [
        "X_train = df_train.drop('class', axis=1).values\n",
        "y_train = df_train['class'].values\n",
        "\n",
        "X_test = df_test.drop('class', axis=1).values\n",
        "y_test = df_test['class'].values"
      ],
      "execution_count": null,
      "outputs": []
    },
    {
      "cell_type": "markdown",
      "metadata": {
        "id": "0lyLP2uFrcmE"
      },
      "source": [
        "The following four algorithms on the dataset you built. You could use built-in functionsin an existing package (e.g., Scikit-learn). •Logistic regression•k Nearest Neighbor (kNN)•Support Vector Machine (SVM)•Naïve Bayes"
      ]
    },
    {
      "cell_type": "markdown",
      "metadata": {
        "id": "OXeqryqYrcmF"
      },
      "source": [
        "### Logistic Regression"
      ]
    },
    {
      "cell_type": "code",
      "metadata": {
        "id": "RJ8Lo816rcmF",
        "outputId": "a9ef0dec-a50f-4390-c70c-4cf09c731ad2"
      },
      "source": [
        "from sklearn.linear_model import LogisticRegression\n",
        "\n",
        "LR = LogisticRegression(solver='liblinear', multi_class='ovr').fit(X_train, y_train)\n",
        "\n",
        "LR.score(X_test, y_test)"
      ],
      "execution_count": null,
      "outputs": [
        {
          "output_type": "execute_result",
          "data": {
            "text/plain": [
              "0.9629629629629629"
            ]
          },
          "metadata": {
            "tags": []
          },
          "execution_count": 59
        }
      ]
    },
    {
      "cell_type": "markdown",
      "metadata": {
        "id": "uWPS9O1krcmF"
      },
      "source": [
        "### KNN"
      ]
    },
    {
      "cell_type": "code",
      "metadata": {
        "id": "Pw7jQEadrcmG",
        "outputId": "6f54240c-f3bd-4d2d-b2ae-099a98d60c04"
      },
      "source": [
        "from sklearn.neighbors import KNeighborsClassifier\n",
        "\n",
        "KNN = KNeighborsClassifier(n_neighbors=2)\n",
        "KNN.fit(X_train, y_train)\n",
        "\n",
        "KNN.score(X_test, y_test)"
      ],
      "execution_count": null,
      "outputs": [
        {
          "output_type": "execute_result",
          "data": {
            "text/plain": [
              "1.0"
            ]
          },
          "metadata": {
            "tags": []
          },
          "execution_count": 60
        }
      ]
    },
    {
      "cell_type": "markdown",
      "metadata": {
        "id": "n4GXRVarrcmG"
      },
      "source": [
        "### Support Vector Machine"
      ]
    },
    {
      "cell_type": "code",
      "metadata": {
        "id": "xgB_8ktJrcmG",
        "outputId": "8e77c12f-df67-486f-9fdd-dbc73eff14d4"
      },
      "source": [
        "from sklearn.svm import SVC\n",
        "\n",
        "SVM = SVC(kernel='poly', gamma='auto').fit(X_train, y_train)\n",
        "SVM.score(X_test, y_test)"
      ],
      "execution_count": null,
      "outputs": [
        {
          "output_type": "execute_result",
          "data": {
            "text/plain": [
              "0.9814814814814815"
            ]
          },
          "metadata": {
            "tags": []
          },
          "execution_count": 68
        }
      ]
    },
    {
      "cell_type": "markdown",
      "metadata": {
        "id": "K8U6lwVjrcmH"
      },
      "source": [
        "### Naive Bayes"
      ]
    },
    {
      "cell_type": "code",
      "metadata": {
        "id": "7k0N6sCWrcmH",
        "outputId": "36cb2ed9-a928-4084-f703-d36b56559932"
      },
      "source": [
        "from sklearn.naive_bayes import GaussianNB\n",
        "\n",
        "NB = GaussianNB().fit(X_train, y_train)\n",
        "\n",
        "NB.score(X_test, y_test)"
      ],
      "execution_count": null,
      "outputs": [
        {
          "output_type": "execute_result",
          "data": {
            "text/plain": [
              "0.9537037037037037"
            ]
          },
          "metadata": {
            "tags": []
          },
          "execution_count": 71
        }
      ]
    },
    {
      "cell_type": "markdown",
      "metadata": {
        "id": "UTle64DtrcmH"
      },
      "source": [
        "Compare the above four algorithms using the confusion matrix, F1 score, and the ROC curve.\r\n",
        "\r\n"
      ]
    },
    {
      "cell_type": "code",
      "metadata": {
        "id": "5OFKK1PkrcmH"
      },
      "source": [
        "from sklearn.metrics import confusion_matrix\n",
        "from sklearn.metrics import f1_score\n",
        "from sklearn.metrics import roc_curve\n",
        "import matplotlib.pyplot as plt"
      ],
      "execution_count": null,
      "outputs": []
    },
    {
      "cell_type": "markdown",
      "metadata": {
        "id": "Yvq_7ow8rcmI"
      },
      "source": [
        "### Logistic Regression"
      ]
    },
    {
      "cell_type": "code",
      "metadata": {
        "id": "hz_RYAHwrcmI",
        "outputId": "e8208289-75d8-49ac-db4a-bbd403ac4e94"
      },
      "source": [
        "y_pred = LR.predict(X_test)\n",
        "\n",
        "print(f\"Confusion matrix:\\n{confusion_matrix(y_test, y_pred)}\\n\")\n",
        "print(f\"F1 Score: {f1_score(y_test, y_pred)}\\n\")\n",
        "\n",
        "fpr, tpr, thresholds = roc_curve(y_test, y_pred)\n",
        "plt.plot(fpr, tpr)\n",
        "plt.ylabel(\"True positive rate\")\n",
        "plt.xlabel(\"False positive rate\")\n",
        "plt.title(\"ROC Plot\")\n",
        "plt.show()"
      ],
      "execution_count": null,
      "outputs": [
        {
          "output_type": "stream",
          "text": [
            "Confusion matrix:\n",
            "[[46  2]\n",
            " [ 2 58]]\n",
            "\n",
            "F1 Score: 0.9666666666666667\n",
            "\n"
          ],
          "name": "stdout"
        },
        {
          "output_type": "display_data",
          "data": {
            "image/png": "[encoded data removed]",
            "text/plain": [
              "<Figure size 432x288 with 1 Axes>"
            ]
          },
          "metadata": {
            "tags": [],
            "needs_background": "light"
          }
        }
      ]
    },
    {
      "cell_type": "markdown",
      "metadata": {
        "id": "Qp7D5vQqrcmI"
      },
      "source": [
        "### KNN"
      ]
    },
    {
      "cell_type": "code",
      "metadata": {
        "id": "NjzOfhdarcmI",
        "outputId": "6a731ac1-c784-43aa-d803-d6c6531a4f76"
      },
      "source": [
        "y_pred = KNN.predict(X_test)\n",
        "\n",
        "print(f\"Confusion matrix:\\n{confusion_matrix(y_test, y_pred)}\\n\")\n",
        "print(f\"F1 Score: {f1_score(y_test, y_pred)}\\n\")\n",
        "\n",
        "fpr, tpr, thresholds = roc_curve(y_test, y_pred)\n",
        "plt.plot(fpr, tpr)\n",
        "plt.ylabel(\"True positive rate\")\n",
        "plt.xlabel(\"False positive rate\")\n",
        "plt.title(\"ROC Plot\")\n",
        "plt.show()"
      ],
      "execution_count": null,
      "outputs": [
        {
          "output_type": "stream",
          "text": [
            "Confusion matrix:\n",
            "[[48  0]\n",
            " [ 0 60]]\n",
            "\n",
            "F1 Score: 1.0\n",
            "\n"
          ],
          "name": "stdout"
        },
        {
          "output_type": "display_data",
          "data": {
            "image/png": "[encoded data removed]",
            "text/plain": [
              "<Figure size 432x288 with 1 Axes>"
            ]
          },
          "metadata": {
            "tags": [],
            "needs_background": "light"
          }
        }
      ]
    },
    {
      "cell_type": "markdown",
      "metadata": {
        "id": "UlTlaJaLrcmJ"
      },
      "source": [
        "### Support Vector Machine"
      ]
    },
    {
      "cell_type": "code",
      "metadata": {
        "id": "OH6pX1eNrcmJ",
        "outputId": "e1bb6d76-57f4-4b97-9179-561aafa6f3bd"
      },
      "source": [
        "y_pred = SVM.predict(X_test)\n",
        "\n",
        "print(f\"Confusion matrix:\\n{confusion_matrix(y_test, y_pred)}\\n\")\n",
        "print(f\"F1 Score: {f1_score(y_test, y_pred)}\\n\")\n",
        "\n",
        "fpr, tpr, thresholds = roc_curve(y_test, y_pred)\n",
        "plt.plot(fpr, tpr)\n",
        "plt.ylabel(\"True positive rate\")\n",
        "plt.xlabel(\"False positive rate\")\n",
        "plt.title(\"ROC Plot\")\n",
        "plt.show()"
      ],
      "execution_count": null,
      "outputs": [
        {
          "output_type": "stream",
          "text": [
            "Confusion matrix:\n",
            "[[46  2]\n",
            " [ 0 60]]\n",
            "\n",
            "F1 Score: 0.9836065573770492\n",
            "\n"
          ],
          "name": "stdout"
        },
        {
          "output_type": "display_data",
          "data": {
            "image/png": "[encoded data removed]",
            "text/plain": [
              "<Figure size 432x288 with 1 Axes>"
            ]
          },
          "metadata": {
            "tags": [],
            "needs_background": "light"
          }
        }
      ]
    },
    {
      "cell_type": "markdown",
      "metadata": {
        "id": "KhOBbEYXrcmJ"
      },
      "source": [
        "### Naive Bayes"
      ]
    },
    {
      "cell_type": "code",
      "metadata": {
        "id": "AgR9Uj1arcmK",
        "outputId": "39aa2fa1-7329-4cb3-bd68-af0efe77d960"
      },
      "source": [
        "y_pred = NB.predict(X_test)\n",
        "\n",
        "print(f\"Confusion matrix:\\n{confusion_matrix(y_test, y_pred)}\\n\")\n",
        "print(f\"F1 Score: {f1_score(y_test, y_pred)}\\n\")\n",
        "\n",
        "fpr, tpr, thresholds = roc_curve(y_test, y_pred)\n",
        "plt.plot(fpr, tpr)\n",
        "plt.ylabel(\"True positive rate\")\n",
        "plt.xlabel(\"False positive rate\")\n",
        "plt.title(\"ROC Plot\")\n",
        "plt.show()"
      ],
      "execution_count": null,
      "outputs": [
        {
          "output_type": "stream",
          "text": [
            "Confusion matrix:\n",
            "[[44  4]\n",
            " [ 1 59]]\n",
            "\n",
            "F1 Score: 0.9593495934959351\n",
            "\n"
          ],
          "name": "stdout"
        },
        {
          "output_type": "display_data",
          "data": {
            "image/png": "[encoded data removed]",
            "text/plain": [
              "<Figure size 432x288 with 1 Axes>"
            ]
          },
          "metadata": {
            "tags": [],
            "needs_background": "light"
          }
        }
      ]
    },
    {
      "cell_type": "markdown",
      "metadata": {
        "id": "XGV3LMprrcmK"
      },
      "source": [
        "Perform regression on the Boston housing dataset provided by scikit-learn (https://scikit-learn.org/stable/datasets/index.html#toy-datasets). You could use built-in function in a packageor write your own code for implementing the following regression methods.(i) Use simple linear regression to find the relationship between RM and MEDV. (ii) Use multiple linear regression to estimate the MEDV as a function of RM and AGE. (iii) Evaluate the above two methods using the root mean square errors (RMSE) and the R2score. "
      ]
    },
    {
      "cell_type": "code",
      "metadata": {
        "id": "9XHVjocjrcmL",
        "outputId": "3702c309-ad13-4b1f-dc9d-97de20c66bc6"
      },
      "source": [
        "from sklearn.datasets import load_boston\n",
        "\n",
        "bunch = load_boston()\n",
        "\n",
        "df= pd.DataFrame(bunch['data'], columns=bunch['feature_names'])\n",
        "df['MEDV'] = bunch['target']\n",
        "print(df.head())\n",
        "print(df.columns)"
      ],
      "execution_count": null,
      "outputs": [
        {
          "output_type": "stream",
          "text": [
            "      CRIM    ZN  INDUS  CHAS    NOX     RM   AGE     DIS  RAD    TAX  \\\n",
            "0  0.00632  18.0   2.31   0.0  0.538  6.575  65.2  4.0900  1.0  296.0   \n",
            "1  0.02731   0.0   7.07   0.0  0.469  6.421  78.9  4.9671  2.0  242.0   \n",
            "2  0.02729   0.0   7.07   0.0  0.469  7.185  61.1  4.9671  2.0  242.0   \n",
            "3  0.03237   0.0   2.18   0.0  0.458  6.998  45.8  6.0622  3.0  222.0   \n",
            "4  0.06905   0.0   2.18   0.0  0.458  7.147  54.2  6.0622  3.0  222.0   \n",
            "\n",
            "   PTRATIO       B  LSTAT  MEDV  \n",
            "0     15.3  396.90   4.98  24.0  \n",
            "1     17.8  396.90   9.14  21.6  \n",
            "2     17.8  392.83   4.03  34.7  \n",
            "3     18.7  394.63   2.94  33.4  \n",
            "4     18.7  396.90   5.33  36.2  \n",
            "Index(['CRIM', 'ZN', 'INDUS', 'CHAS', 'NOX', 'RM', 'AGE', 'DIS', 'RAD', 'TAX',\n",
            "       'PTRATIO', 'B', 'LSTAT', 'MEDV'],\n",
            "      dtype='object')\n"
          ],
          "name": "stdout"
        }
      ]
    },
    {
      "cell_type": "code",
      "metadata": {
        "id": "r2f89n9ercmL",
        "outputId": "9907db86-654e-4e56-a4f2-5de064d17cfa"
      },
      "source": [
        "import statsmodels.api as sm\n",
        "\n",
        "X = df['RM'].values.reshape(-1, 1)\n",
        "y = df['MEDV'].values\n",
        "model = sm.OLS(y, X).fit()\n",
        "print(model.summary())"
      ],
      "execution_count": null,
      "outputs": [
        {
          "output_type": "stream",
          "text": [
            "                                 OLS Regression Results                                \n",
            "=======================================================================================\n",
            "Dep. Variable:                      y   R-squared (uncentered):                   0.901\n",
            "Model:                            OLS   Adj. R-squared (uncentered):              0.901\n",
            "Method:                 Least Squares   F-statistic:                              4615.\n",
            "Date:                Thu, 08 Oct 2020   Prob (F-statistic):                   3.74e-256\n",
            "Time:                        18:20:50   Log-Likelihood:                         -1747.1\n",
            "No. Observations:                 506   AIC:                                      3496.\n",
            "Df Residuals:                     505   BIC:                                      3500.\n",
            "Df Model:                           1                                                  \n",
            "Covariance Type:            nonrobust                                                  \n",
            "==============================================================================\n",
            "                 coef    std err          t      P>|t|      [0.025      0.975]\n",
            "------------------------------------------------------------------------------\n",
            "x1             3.6534      0.054     67.930      0.000       3.548       3.759\n",
            "==============================================================================\n",
            "Omnibus:                       83.295   Durbin-Watson:                   0.493\n",
            "Prob(Omnibus):                  0.000   Jarque-Bera (JB):              152.507\n",
            "Skew:                           0.955   Prob(JB):                     7.65e-34\n",
            "Kurtosis:                       4.894   Cond. No.                         1.00\n",
            "==============================================================================\n",
            "\n",
            "Warnings:\n",
            "[1] Standard Errors assume that the covariance matrix of the errors is correctly specified.\n"
          ],
          "name": "stdout"
        }
      ]
    },
    {
      "cell_type": "markdown",
      "metadata": {
        "id": "UPcO8BvVrcmM"
      },
      "source": [
        "### ii) Multiple Linear Regression"
      ]
    },
    {
      "cell_type": "code",
      "metadata": {
        "id": "XNmJDVURrcmM",
        "outputId": "2b9df7a7-2dc6-44cc-ce78-543263e847db"
      },
      "source": [
        "X2 = df[['RM', 'AGE']].values\n",
        "y2 = df['MEDV'].values\n",
        "model2 = sm.OLS(y2, X2).fit()\n",
        "print(model2.summary())"
      ],
      "execution_count": null,
      "outputs": [
        {
          "output_type": "stream",
          "text": [
            "                                 OLS Regression Results                                \n",
            "=======================================================================================\n",
            "Dep. Variable:                      y   R-squared (uncentered):                   0.923\n",
            "Model:                            OLS   Adj. R-squared (uncentered):              0.922\n",
            "Method:                 Least Squares   F-statistic:                              3004.\n",
            "Date:                Thu, 08 Oct 2020   Prob (F-statistic):                   8.88e-281\n",
            "Time:                        18:20:59   Log-Likelihood:                         -1685.7\n",
            "No. Observations:                 506   AIC:                                      3375.\n",
            "Df Residuals:                     504   BIC:                                      3384.\n",
            "Df Model:                           2                                                  \n",
            "Covariance Type:            nonrobust                                                  \n",
            "==============================================================================\n",
            "                 coef    std err          t      P>|t|      [0.025      0.975]\n",
            "------------------------------------------------------------------------------\n",
            "x1             4.8798      0.115     42.567      0.000       4.655       5.105\n",
            "x2            -0.1151      0.010    -11.765      0.000      -0.134      -0.096\n",
            "==============================================================================\n",
            "Omnibus:                      191.832   Durbin-Watson:                   0.563\n",
            "Prob(Omnibus):                  0.000   Jarque-Bera (JB):              783.239\n",
            "Skew:                           1.688   Prob(JB):                    8.35e-171\n",
            "Kurtosis:                       8.074   Cond. No.                         28.3\n",
            "==============================================================================\n",
            "\n",
            "Warnings:\n",
            "[1] Standard Errors assume that the covariance matrix of the errors is correctly specified.\n"
          ],
          "name": "stdout"
        }
      ]
    },
    {
      "cell_type": "markdown",
      "metadata": {
        "id": "oshXF4OJrcmN"
      },
      "source": [
        "### iii) Evaluate"
      ]
    },
    {
      "cell_type": "code",
      "metadata": {
        "id": "t2y2pJ8PrcmN",
        "outputId": "ae3ebf0b-0f7a-475e-9771-7841b3c79f41"
      },
      "source": [
        "from statsmodels.tools.eval_measures import rmse\n",
        "\n",
        "# Get RMSE\n",
        "predictions = model.predict(X)\n",
        "\n",
        "print(f\"RMSE of Simple Linear Regression: {rmse(y, predictions)}\")\n",
        "print(f\"From the output of our Simple Linear Regression we see R^2 is: 0.901\")\n",
        "\n",
        "# Get RMSE\n",
        "predictions2 = model2.predict(X2)\n",
        "\n",
        "print(f\"RMSE of Simple Linear Regression: {rmse(y2, predictions2)}\")\n",
        "print(f\"From the output of our Simple Linear Regression we see Adj. R^2 is: 0.922\")"
      ],
      "execution_count": null,
      "outputs": [
        {
          "output_type": "stream",
          "text": [
            "RMSE of Simple Linear Regression: 7.64268509308749\n",
            "From the output of our Simple Linear Regression we see R^2 is: 0.901\n",
            "RMSE of Simple Linear Regression: 6.769496749800972\n",
            "From the output of our Simple Linear Regression we see Adj. R^2 is: 0.922\n"
          ],
          "name": "stdout"
        }
      ]
    }
  ]
}