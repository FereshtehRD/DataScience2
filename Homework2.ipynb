{
  "nbformat": 4,
  "nbformat_minor": 0,
  "metadata": {
    "colab": {
      "name": "Homework2.ipynb",
      "provenance": [],
      "collapsed_sections": [],
      "authorship_tag": "ABX9TyOAwwFNX5urQOdaHngyAvrj",
      "include_colab_link": true
    },
    "kernelspec": {
      "name": "python3",
      "display_name": "Python 3"
    }
  },
  "cells": [
    {
      "cell_type": "markdown",
      "metadata": {
        "id": "view-in-github",
        "colab_type": "text"
      },
      "source": [
        "<a href=\"https://colab.research.google.com/github/FereshtehRD/DataScience2/blob/FereshtehRD-homework1/Homework2.ipynb\" target=\"_parent\"><img src=\"https://colab.research.google.com/assets/colab-badge.svg\" alt=\"Open In Colab\"/></a>"
      ]
    },
    {
      "cell_type": "code",
      "metadata": {
        "id": "FnVIJwlvjpME"
      },
      "source": [
        "from sklearn.metrics import confusion_matrix\n",
        "from sklearn.model_selection import train_test_split\n",
        "from sklearn import svm\n",
        "from sklearn import datasets\n",
        "import numpy as np\n",
        "from sklearn.datasets import load_digits\n",
        "import matplotlib.pyplot as plt\n",
        "from sklearn.preprocessing import StandardScaler\n",
        "import numpy as np\n",
        "from sklearn.linear_model import LogisticRegression\n",
        "from sklearn.neighbors import KNeighborsClassifier\n",
        "from sklearn.svm import SVC\n",
        "from sklearn import naive_bayes\n",
        "from sklearn.metrics import confusion_matrix\n",
        "from sklearn.metrics import f1_score\n",
        "from sklearn.metrics import roc_curve, auc\n",
        "from itertools import cycle\n",
        "from scipy import interp\n",
        "from sklearn.datasets import load_boston\n",
        "import pandas as pd\n",
        "from sklearn.linear_model import LinearRegression\n",
        "from sklearn import metrics\n",
        "from sklearn.preprocessing import label_binarize\n",
        "from sklearn.multiclass import OneVsRestClassifier\n"
      ],
      "execution_count": null,
      "outputs": []
    },
    {
      "cell_type": "code",
      "metadata": {
        "id": "6IfmvrC47XP9"
      },
      "source": [
        "#read dataset by using datasets function from sklearn\n",
        "digits = datasets.load_digits()\n",
        "#using zip function to integreate both data and target\n",
        "#data_and_labels=list(zip(digits.data, digits.target))\n",
        "#what does this function do? what is the point here?\n",
        "#np.random.seed(123)\n",
        "#divide the data to test and train\n",
        "x_train, x_test, y_train, y_test= train_test_split(digits.data, digits.target, test_size=0.3, shuffle=True)\n"
      ],
      "execution_count": null,
      "outputs": []
    },
    {
      "cell_type": "code",
      "metadata": {
        "id": "AwCQgBkfBIvo"
      },
      "source": [
        "#by using numpy liberary we can find the index of images that are 9 and others\n",
        "index_9=np.where(y_train==9)\n",
        "index_n9=np.where(y_train!=9)\n"
      ],
      "execution_count": null,
      "outputs": []
    },
    {
      "cell_type": "markdown",
      "metadata": {
        "id": "ezto_Ie6B46p"
      },
      "source": [
        ""
      ]
    },
    {
      "cell_type": "code",
      "metadata": {
        "colab": {
          "base_uri": "https://localhost:8080/"
        },
        "id": "TgXQs2txSoBQ",
        "outputId": "0806830f-68f7-4211-992a-03904eaa47e2"
      },
      "source": [
        "#digits=load_digits()\n",
        "#x_train, x_test, y_train, y_test= train_test_split(digits.data, digits.target, test_size=0.3, random_state=33)\n",
        "#ss=StandardScaler()\n",
        "#X_train=ss.fit_transform(x_train)\n",
        "#X_test=ss.transform(x_test)\n",
        "#index_9=np.where(y_train==9)\n",
        "#index_n9=np.where(y_train!=9)\n",
        "#seperrate 9 and n9 images\n",
        "x_train_9=x_train[index_9]\n",
        "x_train_n9=x_train[index_n9]\n",
        "#calculate the number of 9 images in the dataset\n",
        "num_9=len(index_9[0])\n",
        "print(num_9)\n",
        "#put the indexes in order using numpy assary\n",
        "array_n9=np.asarray(index_n9)\n",
        "#from data set array_n9 we want to choose randomly num_9 sample (the same number of sample that we have as 9 images)\n",
        "index_n9_rd=np.random.choice(array_n9.shape[1],size=num_9, replace=False, p=None)\n",
        "#import indexes to have the data\n",
        "x_train_n9_rd=x_train_n9[index_n9_rd]\n",
        "#in this moment we have 123 images which the number is 9 and 123 images which the number is not 9"
      ],
      "execution_count": null,
      "outputs": [
        {
          "output_type": "stream",
          "text": [
            "123\n"
          ],
          "name": "stdout"
        }
      ]
    },
    {
      "cell_type": "code",
      "metadata": {
        "id": "VkmTFu2pf3jG"
      },
      "source": [
        "#here we do a binay classification puting -1 when there output is 9 and otherwise\n",
        "y_test[y_test!=9]=-1\n",
        "y_test[y_test==9]=1\n",
        "#create a concrete dataset\n",
        "x_train=np.concatenate((x_train_9, x_train_n9_rd), axis=0)\n",
        "#put y_train for the 123 rows 1 since they are the images with output 9 and otherwise.\n",
        "y_train=np.ones(2*num_9)\n",
        "y_train[num_9:]=-1\n"
      ],
      "execution_count": null,
      "outputs": []
    },
    {
      "cell_type": "code",
      "metadata": {
        "colab": {
          "base_uri": "https://localhost:8080/"
        },
        "id": "YELxGZWQ7nWv",
        "outputId": "444ab13b-7467-40cb-b73b-e88c4c4e31bd"
      },
      "source": [
        "from sklearn.linear_model import LogisticRegression\n",
        "#fit the model\n",
        "logistic=LogisticRegression(random_state=0, penalty='none')\n",
        "logit_reg=logistic.fit(x_train,y_train)\n",
        "#predict on account of x_test\n",
        "logit_pred=logit_reg.predict(x_test)\n",
        "#see the percentage of correct responses.\n",
        "sum(y_test==logit_pred)/(y_test.shape)"
      ],
      "execution_count": null,
      "outputs": [
        {
          "output_type": "execute_result",
          "data": {
            "text/plain": [
              "array([0.95740741])"
            ]
          },
          "metadata": {
            "tags": []
          },
          "execution_count": 49
        }
      ]
    },
    {
      "cell_type": "code",
      "metadata": {
        "colab": {
          "base_uri": "https://localhost:8080/"
        },
        "id": "vzs6InhoF_7y",
        "outputId": "e53994e6-161d-481e-f9d3-0d88e2762699"
      },
      "source": [
        "from sklearn.neighbors import KNeighborsClassifier\n",
        "knn=KNeighborsClassifier(n_neighbors=2)\n",
        "knn.fit(x_train,y_train)\n",
        "knn_pred= knn.predict(x_test)\n",
        "sum(y_test==knn_pred)/(y_test.shape)"
      ],
      "execution_count": null,
      "outputs": [
        {
          "output_type": "execute_result",
          "data": {
            "text/plain": [
              "array([0.98518519])"
            ]
          },
          "metadata": {
            "tags": []
          },
          "execution_count": 29
        }
      ]
    },
    {
      "cell_type": "code",
      "metadata": {
        "colab": {
          "base_uri": "https://localhost:8080/"
        },
        "id": "64-u4jLWJPlG",
        "outputId": "d448096e-f973-4550-c002-a39f47fa26b7"
      },
      "source": [
        "from sklearn import svm, datasets\n",
        "svm=svm.SVC(kernel='linear', C=1, decision_function_shape='ovo').fit(x_train,y_train)\n",
        "svm_pred=svm.predict(x_test)\n",
        "sum(y_test==svm_pred)/(y_test.shape)\n"
      ],
      "execution_count": null,
      "outputs": [
        {
          "output_type": "execute_result",
          "data": {
            "text/plain": [
              "array([0.93333333])"
            ]
          },
          "metadata": {
            "tags": []
          },
          "execution_count": 31
        }
      ]
    },
    {
      "cell_type": "code",
      "metadata": {
        "colab": {
          "base_uri": "https://localhost:8080/"
        },
        "id": "A2P5R0r3Nu-j",
        "outputId": "946bbd8c-9c20-4974-c7cf-99ff24240c93"
      },
      "source": [
        "from sklearn.naive_bayes import GaussianNB\n",
        "gnb=GaussianNB()\n",
        "gnb_pred=gnb.fit(x_train, y_train).predict(x_test)\n",
        "sum(y_test==gnb_pred)/(y_test.shape)"
      ],
      "execution_count": null,
      "outputs": [
        {
          "output_type": "execute_result",
          "data": {
            "text/plain": [
              "array([0.79259259])"
            ]
          },
          "metadata": {
            "tags": []
          },
          "execution_count": 32
        }
      ]
    },
    {
      "cell_type": "code",
      "metadata": {
        "colab": {
          "base_uri": "https://localhost:8080/"
        },
        "id": "rl0q-MoVPXAJ",
        "outputId": "9c9b17b3-757e-4a51-9994-de7730d40127"
      },
      "source": [
        "#calculate confusion_matrix\n",
        "from sklearn.metrics import confusion_matrix\n",
        "confusion_matrix(y_test, logit_pred)\n",
        "confusion_matrix(y_test, knn_pred)\n",
        "confusion_matrix(y_test, svm_pred)\n",
        "confusion_matrix(y_test, gnb_pred)"
      ],
      "execution_count": null,
      "outputs": [
        {
          "output_type": "execute_result",
          "data": {
            "text/plain": [
              "array([[380, 105],\n",
              "       [  7,  48]])"
            ]
          },
          "metadata": {
            "tags": []
          },
          "execution_count": 33
        }
      ]
    },
    {
      "cell_type": "code",
      "metadata": {
        "id": "l-oPHisxQBTo",
        "colab": {
          "base_uri": "https://localhost:8080/"
        },
        "outputId": "7c7fea47-60fa-4eb5-e47a-dd66734624af"
      },
      "source": [
        "from sklearn.metrics import f1_score\n",
        "f1_score(y_test, logit_pred)\n",
        "f1_score(y_test, knn_pred)\n",
        "f1_score(y_test, svm_pred)\n",
        "f1_score(y_test, gnb_pred)\n",
        "####what is f1_score"
      ],
      "execution_count": null,
      "outputs": [
        {
          "output_type": "execute_result",
          "data": {
            "text/plain": [
              "0.4615384615384615"
            ]
          },
          "metadata": {
            "tags": []
          },
          "execution_count": 34
        }
      ]
    },
    {
      "cell_type": "markdown",
      "metadata": {
        "id": "Guv8eSjE7Tzx"
      },
      "source": [
        "1-4\r\n",
        "One way to use the previous models to classify all 10 classes in the dataset would be to use the one-vs-all method. Using this method, we would test each individual class vs the rest of the classes similar to the above method (i.e. classify all sevenss vs non-sevens) and repeat for each individual class. We would then classify a given point by choosing the model that is the most confident in its classification."
      ]
    },
    {
      "cell_type": "code",
      "metadata": {
        "colab": {
          "base_uri": "https://localhost:8080/"
        },
        "id": "atI7FggZoWgT",
        "outputId": "13a18602-9ced-43c0-cead-e62c8ca6dc41"
      },
      "source": [
        "#import boston dataset\n",
        "boston=datasets.load_boston()\n",
        "#have a table\n",
        "bostondata_pd=pd.DataFrame(boston.data)\n",
        "#name of the columns of the dataset be the features of the boston\n",
        "bostondata_pd.columns=boston.feature_names\n",
        "#create a column of dataset\n",
        "bostontarget_pd=pd.DataFrame(boston.target)\n",
        "rm=np.asarray(bostondata_pd.RM)\n",
        "age=np.asarray(bostondata_pd.AGE)\n",
        "#name the target as medv\n",
        "bostontarget_pd.columns=[\"MEDV\"]\n",
        "medv=np.asarray(bostontarget_pd.MEDV)\n",
        "rm=rm.reshape(-1,1)\n",
        "age=age.reshape(-1,1)\n",
        "#having simple linear regression\n",
        "linear_rg=LinearRegression().fit(rm, medv)\n",
        "linear_rg.coef_\n",
        "linear_rg.intercept_\n",
        "#formula to calculate linear regression= medv=intercept+coef*rmv"
      ],
      "execution_count": null,
      "outputs": [
        {
          "output_type": "execute_result",
          "data": {
            "text/plain": [
              "-34.67062077643857"
            ]
          },
          "metadata": {
            "tags": []
          },
          "execution_count": 35
        }
      ]
    },
    {
      "cell_type": "code",
      "metadata": {
        "colab": {
          "base_uri": "https://localhost:8080/"
        },
        "id": "XLw9tsU02F1g",
        "outputId": "f7b920e7-cb58-4449-c1d3-c028453740dc"
      },
      "source": [
        "#since we want to calcuate multiple linear regression we mix two feature\n",
        "X=np.concatenate((age,rm), axis=1)\n",
        "linear_mul_rg=LinearRegression().fit(X,medv)\n",
        "linear_mul_rg.coef_\n",
        "linear_mul_rg.intercept_"
      ],
      "execution_count": null,
      "outputs": [
        {
          "output_type": "execute_result",
          "data": {
            "text/plain": [
              "-25.277399052977106"
            ]
          },
          "metadata": {
            "tags": []
          },
          "execution_count": 36
        }
      ]
    },
    {
      "cell_type": "code",
      "metadata": {
        "colab": {
          "base_uri": "https://localhost:8080/"
        },
        "id": "w5nwNlez4KHE",
        "outputId": "caf21519-1aa8-4911-937a-e3cf107bff9e"
      },
      "source": [
        "from sklearn.metrics import mean_squared_error\n",
        "#calculate meansequared error\n",
        "mean_squared_error(medv, linear_rg.predict(rm), squared=False)\n",
        "mean_squared_error(medv, linear_mul_rg.predict(X), squared=False)"
      ],
      "execution_count": null,
      "outputs": [
        {
          "output_type": "execute_result",
          "data": {
            "text/plain": [
              "6.2971370843504495"
            ]
          },
          "metadata": {
            "tags": []
          },
          "execution_count": 37
        }
      ]
    },
    {
      "cell_type": "code",
      "metadata": {
        "colab": {
          "base_uri": "https://localhost:8080/"
        },
        "id": "KxUGEGv66PXa",
        "outputId": "eb2e4997-bd4f-4146-96c2-adb7d8bc8832"
      },
      "source": [
        "from sklearn.metrics import r2_score\n",
        "#calculate rscore\n",
        "#R2 for simple linear model\n",
        "r2_score(medv, linear_rg.predict(rm))\n",
        "r2_score(medv, linear_mul_rg.predict(X))\n",
        "\n"
      ],
      "execution_count": null,
      "outputs": [
        {
          "output_type": "execute_result",
          "data": {
            "text/plain": [
              "0.5302754804141959"
            ]
          },
          "metadata": {
            "tags": []
          },
          "execution_count": 38
        }
      ]
    }
  ]
}