{
  "nbformat": 4,
  "nbformat_minor": 0,
  "metadata": {
    "colab": {
      "name": "Project data science course",
      "provenance": [],
      "collapsed_sections": [],
      "toc_visible": true,
      "mount_file_id": "12ojU17rbNXD52c2wwZyoAEiZBzvtVw78",
      "authorship_tag": "ABX9TyPkisex47wkCE9VChw4Q6bd",
      "include_colab_link": true
    },
    "kernelspec": {
      "name": "python3",
      "display_name": "Python 3"
    }
  },
  "cells": [
    {
      "cell_type": "markdown",
      "metadata": {
        "id": "view-in-github",
        "colab_type": "text"
      },
      "source": [
        "<a href=\"https://colab.research.google.com/github/FereshtehRD/DataScience2/blob/FereshtehRD-homework1/Project_data_science_course.ipynb\" target=\"_parent\"><img src=\"https://colab.research.google.com/assets/colab-badge.svg\" alt=\"Open In Colab\"/></a>"
      ]
    },
    {
      "cell_type": "code",
      "metadata": {
        "id": "iFaKyUdwvlQK"
      },
      "source": [
        "%tensorflow_version 1.x\n"
      ],
      "execution_count": null,
      "outputs": []
    },
    {
      "cell_type": "code",
      "metadata": {
        "id": "szXXdWVjVpNa",
        "colab": {
          "base_uri": "https://localhost:8080/",
          "height": 33
        },
        "outputId": "891754c8-76fb-4152-a7cb-dd27d7cf7d78"
      },
      "source": [
        "import tensorflow\n",
        "print(tensorflow.__version__)"
      ],
      "execution_count": null,
      "outputs": [
        {
          "output_type": "stream",
          "text": [
            "1.15.2\n"
          ],
          "name": "stdout"
        }
      ]
    },
    {
      "cell_type": "code",
      "metadata": {
        "id": "yvSFp7RntL6g"
      },
      "source": [
        "import pandas as pd\n",
        "import numpy as np\n",
        "import matplotlib.pyplot as plt\n",
        "from sklearn.model_selection import train_test_split\n",
        "import keras.backend as K\n",
        "import numpy as np\n",
        "import pandas as pd\n",
        "import tensorflow as tf\n",
        "from tensorflow import keras\n",
        "from tensorflow.keras import layers\n",
        "import matplotlib.pyplot as plt\n",
        "import keras\n",
        "from sklearn.model_selection import RepeatedKFold,cross_val_predict\n",
        "from tensorflow.keras.models import*\n",
        "from tensorflow.keras.wrappers.scikit_learn import KerasRegressor\n",
        "from keras.models import Sequential\n",
        "from keras.layers import Dense\n",
        "from keras.optimizers import Adam\n",
        "from keras.callbacks import EarlyStopping\n",
        "import numpy as np\n",
        "import pandas as pd\n",
        "import sklearn\n",
        "from sklearn import preprocessing\n",
        "from sklearn.model_selection import train_test_split\n",
        "from sklearn.model_selection import KFold\n",
        "from tensorflow.keras.wrappers.scikit_learn import KerasRegressor\n",
        "from sklearn.metrics import r2_score\n",
        "from matplotlib import pyplot as plt\n",
        "from scipy.stats import zscore\n",
        "import os\n",
        "from sklearn import metrics\n",
        "from keras.wrappers.scikit_learn import KerasClassifier\n",
        "from sklearn.linear_model import stochastic_gradient\n",
        "import keras.backend as K\n",
        "import keras.backend as K\n",
        "import matplotlib.pyplot as plt\n",
        "from sklearn.preprocessing import StandardScaler\n",
        "from sklearn import preprocessing\n",
        "import numpy as n\n",
        "from keras.models import Sequential\n",
        "from keras.layers import Dense\n",
        "from sklearn.model_selection import GridSearchCV\n",
        "from sklearn.linear_model import*\n",
        "from keras.wrappers.scikit_learn import KerasRegressor\n"
      ],
      "execution_count": null,
      "outputs": []
    },
    {
      "cell_type": "code",
      "metadata": {
        "id": "xTde2hjuFQFd"
      },
      "source": [
        "#build the perceptron \n",
        "df=pd.read_csv('/diabetes.csv')\n",
        "model = Sequential()\n",
        "model.add(Dense(1, input_dim=1, kernel_initializer='normal',activation='sigmoid'))\n",
        "#model.add(Dense(1, kernel_initializer='normal'))\n",
        "adamm = keras.optimizers.Adam(lr=0.19)\n",
        "model.compile(loss='mse', optimizer=adamm)"
      ],
      "execution_count": null,
      "outputs": []
    },
    {
      "cell_type": "markdown",
      "metadata": {
        "id": "6yIOSKezNZcH"
      },
      "source": [
        "# New Section"
      ]
    },
    {
      "cell_type": "code",
      "metadata": {
        "id": "pTrKstbdug3I"
      },
      "source": [
        "#create r_squared model\n",
        "import keras.backend as K\n",
        "import numpy as np\n",
        "\n",
        "def r2_squared(y_true, y_pred):\n",
        "  ybar=np.mean(y_true)\n",
        "  sse=0\n",
        "  sst=0\n",
        "  #we changed Y to y_true\n",
        "  for i in range(len(y_true)): \n",
        "    sse=sse+((y_true[i]-y_pred[i])**2)\n",
        "    sst=sst+((y_true[i]-ybar)**2)\n",
        "    \n",
        "  r2=(1-(sse/sst))\n",
        "  return r2\n",
        "  \n",
        "    \n",
        "#def norm(x):\n",
        "  #return (x - train_stats['mean']) / train_stats['std']\n",
        "\n",
        "def r2_adjusted(i,r2):\n",
        "\n",
        "  df=i\n",
        "  dfr=398-i\n",
        "  rdf=(df+dfr)/dfr\n",
        " \n",
        "  Rar1=r2 *(-1) \n",
        "  Rar2=Rar1.__add__(1) \n",
        "  Rrdff=-1*rdf\n",
        "  Rar3=Rar2*Rrdff \n",
        "  Radjustedr2=Rar3.__add__(1) \n",
        "  return(Radjustedr2)\n",
        "  \n",
        "\n"
      ],
      "execution_count": null,
      "outputs": []
    },
    {
      "cell_type": "code",
      "metadata": {
        "id": "M6bM4P7btQtp",
        "colab": {
          "base_uri": "https://localhost:8080/",
          "height": 361
        },
        "outputId": "d41d3bb8-aff3-4eaa-dd7a-982b74ad4c49"
      },
      "source": [
        "\n",
        "#calculate r2 for every individual feature\n",
        "from sklearn.model_selection import GridSearchCV\n",
        "from keras.wrappers.scikit_learn import KerasRegressor\n",
        "Y = df.iloc[:,0]\n",
        "scx,scy = StandardScaler(),StandardScaler()\n",
        "Y=Y.values.reshape(768,1)\n",
        "scy.fit(Y)\n",
        "Y_std = scy.transform(Y)\n",
        "Y_std = preprocessing.scale(Y_std)\n",
        "R2=[]\n",
        "Y=Y.ravel()\n",
        "i=1\n",
        "while(i<6):\n",
        "  \n",
        "  X=df.iloc[:,i]\n",
        "  X=X.values.reshape(768,1)\n",
        "  scx.fit(X)\n",
        "  \n",
        "  X_std = scx.transform(X)\n",
        "  X_std = preprocessing.scale(X_std)\n",
        "  #X_std=X.ravel()\n",
        "  history =model.fit(X_std, Y_std, batch_size=32, epochs=100, verbose=0)\n",
        "  yp= model.predict(X_std)\n",
        "  yp=scy.inverse_transform(yp)\n",
        "  yp=yp.ravel()\n",
        "  r2 = r2_squared(Y, yp)\n",
        "  R2.append(r2)\n",
        "  i=i+1\n",
        "R2\n",
        "R3=np.sort(R2)\n",
        "#this line sort the array in decending order\n",
        "R3=R3[::-1]\n",
        "#this is  way of making dictionary from one array\n",
        "dictOfWords = { i+1 : R2[i] for i in range(0, len(R2) ) }\n",
        "# this is way to sort the dictionary on account of values \n",
        "import operator\n",
        "sorted_d = sorted(dictOfWords.items(), key=operator.itemgetter(1),reverse=True)\n",
        "                                                 \n",
        "columns=[]\n",
        "for i in range(len(sorted_d)):\n",
        "  columns.append(sorted_d[i][0])\n",
        "\n",
        "#copy columns of dataset in respect to their r2 in new dataset\n",
        "df_new=df.iloc[:,columns]\n",
        "\n"
      ],
      "execution_count": null,
      "outputs": [
        {
          "output_type": "error",
          "ename": "ValueError",
          "evalue": "ignored",
          "traceback": [
            "\u001b[0;31m---------------------------------------------------------------------------\u001b[0m",
            "\u001b[0;31mValueError\u001b[0m                                Traceback (most recent call last)",
            "\u001b[0;32m<ipython-input-39-95ba240d873b>\u001b[0m in \u001b[0;36m<module>\u001b[0;34m()\u001b[0m\n\u001b[1;32m     21\u001b[0m   \u001b[0mX_std\u001b[0m \u001b[0;34m=\u001b[0m \u001b[0mpreprocessing\u001b[0m\u001b[0;34m.\u001b[0m\u001b[0mscale\u001b[0m\u001b[0;34m(\u001b[0m\u001b[0mX_std\u001b[0m\u001b[0;34m)\u001b[0m\u001b[0;34m\u001b[0m\u001b[0;34m\u001b[0m\u001b[0m\n\u001b[1;32m     22\u001b[0m   \u001b[0;31m#X_std=X.ravel()\u001b[0m\u001b[0;34m\u001b[0m\u001b[0;34m\u001b[0m\u001b[0;34m\u001b[0m\u001b[0m\n\u001b[0;32m---> 23\u001b[0;31m   \u001b[0mhistory\u001b[0m \u001b[0;34m=\u001b[0m\u001b[0mmodel\u001b[0m\u001b[0;34m.\u001b[0m\u001b[0mfit\u001b[0m\u001b[0;34m(\u001b[0m\u001b[0mX_std\u001b[0m\u001b[0;34m,\u001b[0m \u001b[0mY_std\u001b[0m\u001b[0;34m,\u001b[0m \u001b[0mbatch_size\u001b[0m\u001b[0;34m=\u001b[0m\u001b[0;36m32\u001b[0m\u001b[0;34m,\u001b[0m \u001b[0mepochs\u001b[0m\u001b[0;34m=\u001b[0m\u001b[0;36m100\u001b[0m\u001b[0;34m,\u001b[0m \u001b[0mverbose\u001b[0m\u001b[0;34m=\u001b[0m\u001b[0;36m0\u001b[0m\u001b[0;34m)\u001b[0m\u001b[0;34m\u001b[0m\u001b[0;34m\u001b[0m\u001b[0m\n\u001b[0m\u001b[1;32m     24\u001b[0m   \u001b[0myp\u001b[0m\u001b[0;34m=\u001b[0m \u001b[0mmodel\u001b[0m\u001b[0;34m.\u001b[0m\u001b[0mpredict\u001b[0m\u001b[0;34m(\u001b[0m\u001b[0mX_std\u001b[0m\u001b[0;34m)\u001b[0m\u001b[0;34m\u001b[0m\u001b[0;34m\u001b[0m\u001b[0m\n\u001b[1;32m     25\u001b[0m   \u001b[0myp\u001b[0m\u001b[0;34m=\u001b[0m\u001b[0mscy\u001b[0m\u001b[0;34m.\u001b[0m\u001b[0minverse_transform\u001b[0m\u001b[0;34m(\u001b[0m\u001b[0myp\u001b[0m\u001b[0;34m)\u001b[0m\u001b[0;34m\u001b[0m\u001b[0;34m\u001b[0m\u001b[0m\n",
            "\u001b[0;32m/usr/local/lib/python3.6/dist-packages/keras/engine/training.py\u001b[0m in \u001b[0;36mfit\u001b[0;34m(self, x, y, batch_size, epochs, verbose, callbacks, validation_split, validation_data, shuffle, class_weight, sample_weight, initial_epoch, steps_per_epoch, validation_steps, validation_freq, max_queue_size, workers, use_multiprocessing, **kwargs)\u001b[0m\n\u001b[1;32m   1152\u001b[0m             \u001b[0msample_weight\u001b[0m\u001b[0;34m=\u001b[0m\u001b[0msample_weight\u001b[0m\u001b[0;34m,\u001b[0m\u001b[0;34m\u001b[0m\u001b[0;34m\u001b[0m\u001b[0m\n\u001b[1;32m   1153\u001b[0m             \u001b[0mclass_weight\u001b[0m\u001b[0;34m=\u001b[0m\u001b[0mclass_weight\u001b[0m\u001b[0;34m,\u001b[0m\u001b[0;34m\u001b[0m\u001b[0;34m\u001b[0m\u001b[0m\n\u001b[0;32m-> 1154\u001b[0;31m             batch_size=batch_size)\n\u001b[0m\u001b[1;32m   1155\u001b[0m \u001b[0;34m\u001b[0m\u001b[0m\n\u001b[1;32m   1156\u001b[0m         \u001b[0;31m# Prepare validation data.\u001b[0m\u001b[0;34m\u001b[0m\u001b[0;34m\u001b[0m\u001b[0;34m\u001b[0m\u001b[0m\n",
            "\u001b[0;32m/usr/local/lib/python3.6/dist-packages/keras/engine/training.py\u001b[0m in \u001b[0;36m_standardize_user_data\u001b[0;34m(self, x, y, sample_weight, class_weight, check_array_lengths, batch_size)\u001b[0m\n\u001b[1;32m    577\u001b[0m             \u001b[0mfeed_input_shapes\u001b[0m\u001b[0;34m,\u001b[0m\u001b[0;34m\u001b[0m\u001b[0;34m\u001b[0m\u001b[0m\n\u001b[1;32m    578\u001b[0m             \u001b[0mcheck_batch_axis\u001b[0m\u001b[0;34m=\u001b[0m\u001b[0;32mFalse\u001b[0m\u001b[0;34m,\u001b[0m  \u001b[0;31m# Don't enforce the batch size.\u001b[0m\u001b[0;34m\u001b[0m\u001b[0;34m\u001b[0m\u001b[0m\n\u001b[0;32m--> 579\u001b[0;31m             exception_prefix='input')\n\u001b[0m\u001b[1;32m    580\u001b[0m \u001b[0;34m\u001b[0m\u001b[0m\n\u001b[1;32m    581\u001b[0m         \u001b[0;32mif\u001b[0m \u001b[0my\u001b[0m \u001b[0;32mis\u001b[0m \u001b[0;32mnot\u001b[0m \u001b[0;32mNone\u001b[0m\u001b[0;34m:\u001b[0m\u001b[0;34m\u001b[0m\u001b[0;34m\u001b[0m\u001b[0m\n",
            "\u001b[0;32m/usr/local/lib/python3.6/dist-packages/keras/engine/training_utils.py\u001b[0m in \u001b[0;36mstandardize_input_data\u001b[0;34m(data, names, shapes, check_batch_axis, exception_prefix)\u001b[0m\n\u001b[1;32m    143\u001b[0m                             \u001b[0;34m': expected '\u001b[0m \u001b[0;34m+\u001b[0m \u001b[0mnames\u001b[0m\u001b[0;34m[\u001b[0m\u001b[0mi\u001b[0m\u001b[0;34m]\u001b[0m \u001b[0;34m+\u001b[0m \u001b[0;34m' to have shape '\u001b[0m \u001b[0;34m+\u001b[0m\u001b[0;34m\u001b[0m\u001b[0;34m\u001b[0m\u001b[0m\n\u001b[1;32m    144\u001b[0m                             \u001b[0mstr\u001b[0m\u001b[0;34m(\u001b[0m\u001b[0mshape\u001b[0m\u001b[0;34m)\u001b[0m \u001b[0;34m+\u001b[0m \u001b[0;34m' but got array with shape '\u001b[0m \u001b[0;34m+\u001b[0m\u001b[0;34m\u001b[0m\u001b[0;34m\u001b[0m\u001b[0m\n\u001b[0;32m--> 145\u001b[0;31m                             str(data_shape))\n\u001b[0m\u001b[1;32m    146\u001b[0m     \u001b[0;32mreturn\u001b[0m \u001b[0mdata\u001b[0m\u001b[0;34m\u001b[0m\u001b[0;34m\u001b[0m\u001b[0m\n\u001b[1;32m    147\u001b[0m \u001b[0;34m\u001b[0m\u001b[0m\n",
            "\u001b[0;31mValueError\u001b[0m: Error when checking input: expected dense_15_input to have shape (6,) but got array with shape (1,)"
          ]
        }
      ]
    },
    {
      "cell_type": "markdown",
      "metadata": {
        "id": "hv9FsmJxdfcr"
      },
      "source": [
        "# New Section"
      ]
    },
    {
      "cell_type": "code",
      "metadata": {
        "id": "8kOJt7xb-Lo9",
        "colab": {
          "base_uri": "https://localhost:8080/",
          "height": 265
        },
        "outputId": "af177565-0854-49bd-a111-0b1dd4161b33"
      },
      "source": [
        "#forward selection on new dataset which is df-new\n",
        "Y = df.iloc[:,0]\n",
        "\n",
        "scx,scy = StandardScaler(),StandardScaler()\n",
        "Y=Y.values.reshape(768,1)\n",
        "scy.fit(Y)\n",
        "Y_std = scy.transform(Y)\n",
        "Y_std = preprocessing.scale(Y_std)\n",
        "R2_forward=[]\n",
        "R2_adjusted=[]\n",
        "\n",
        "Y=Y.ravel()\n",
        "i=1\n",
        "while(i<7):\n",
        "  model = Sequential()\n",
        "  model.add(Dense(1, input_dim=i, kernel_initializer='normal',activation='sigmoid'))\n",
        "  #model.add(Dense(1, kernel_initializer='normal'))\n",
        "  adamm = keras.optimizers.Adam(lr=0.19)\n",
        "  model.compile(loss='mse', optimizer=adamm)\n",
        "  X=df_new.iloc[: ,:i]\n",
        "  X=X.values.reshape(768, i)\n",
        "  scx.fit(X)\n",
        "  X_std = scx.transform(X)\n",
        "  X_std = preprocessing.scale(X_std)\n",
        "  #X_std=X.ravel()\n",
        "  \n",
        "  history =model.fit(X_std, Y_std, batch_size=32, epochs=100, verbose=0)\n",
        "  yp= model.predict(X_std)\n",
        "  yp=scy.inverse_transform(yp)\n",
        "  yp=yp.ravel()\n",
        "  r2 = r2_squared(Y, yp)\n",
        "  R2_forward.append(r2)\n",
        "  #calculater2adjusted_score\n",
        "  \n",
        "  R2_adjusted.append(r2_adjusted(i,r2))\n",
        "  #this line add for calculate cross validation\n",
        "  \n",
        "\n",
        "\n",
        "  \n",
        "  i=i+1\n",
        "R2_forward\n",
        "R2_adjusted\n",
        "#R2_cv\n",
        "\n",
        "\n",
        "\n",
        "#so n=5 give us the biggest r2 we can again have code for this part but I did manually. we should have formula becuase by any change this also change.\n",
        "#we should return the index of biggest number as n*\n",
        "\n",
        "x = [i+1 for i in range(len(R2_forward))]\n",
        "plt.plot(x, R2_forward, label='val_r2')\n",
        "plt.plot(x, R2_adjusted, label='val_r2_ajusted')\n",
        "#plt.plot(x, R2_cv, label='R2_cv')\n",
        "plt.ylabel('Score(r2)')\n",
        "plt.legend()\n",
        "plt.show()\n"
      ],
      "execution_count": null,
      "outputs": [
        {
          "output_type": "display_data",
          "data": {
            "image/png": "[encoded data removed]",
            "text/plain": [
              "<Figure size 432x288 with 1 Axes>"
            ]
          },
          "metadata": {
            "tags": [],
            "needs_background": "light"
          }
        }
      ]
    },
    {
      "cell_type": "code",
      "metadata": {
        "id": "_4D2Je-CC48a",
        "colab": {
          "base_uri": "https://localhost:8080/",
          "height": 82
        },
        "outputId": "e3f6c4ef-7d28-4b15-d1eb-7c7f6ff17160"
      },
      "source": [
        "print(R2_forward)\n",
        "\n",
        "n=R2_forward.index(max(R2_forward))\n",
        "#have an appropriate print for showing n*\n",
        "print(n)\n",
        "print(R2_adjusted)\n",
        "n_adjusted=R2_adjusted.index(max(R2_adjusted))\n",
        "print(n_adjusted)\n"
      ],
      "execution_count": null,
      "outputs": [
        {
          "output_type": "stream",
          "text": [
            "[0.15112935594046462, 0.17314231454392137, 0.172899192258689, 0.19239302119745105, 0.1934909066647158, 0.19481541330671337]\n",
            "5\n",
            "[0.14899114273124658, 0.16896626562747663, 0.1666174139720461, 0.18419396557509016, 0.18322997672406327, 0.18249115942875482]\n",
            "3\n"
          ],
          "name": "stdout"
        }
      ]
    },
    {
      "cell_type": "code",
      "metadata": {
        "id": "_7blKWg59mgo"
      },
      "source": [
        ""
      ],
      "execution_count": null,
      "outputs": []
    }
  ]
}